{
  "nbformat": 4,
  "nbformat_minor": 0,
  "metadata": {
    "colab": {
      "name": "HW7",
      "provenance": [],
      "collapsed_sections": [],
      "authorship_tag": "ABX9TyPGNRHk2k96YaRbnpRCFPIJ",
      "include_colab_link": true
    },
    "kernelspec": {
      "name": "python3",
      "display_name": "Python 3"
    },
    "language_info": {
      "name": "python"
    }
  },
  "cells": [
    {
      "cell_type": "markdown",
      "metadata": {
        "id": "view-in-github",
        "colab_type": "text"
      },
      "source": [
        "<a href=\"https://colab.research.google.com/github/Salieri9527/2021DSPrescreen/blob/main/HW7.ipynb\" target=\"_parent\"><img src=\"https://colab.research.google.com/assets/colab-badge.svg\" alt=\"Open In Colab\"/></a>"
      ]
    },
    {
      "cell_type": "markdown",
      "source": [
        "# **109306012 資管二 曾昭銘**"
      ],
      "metadata": {
        "id": "JdXY47kjo0ij"
      }
    },
    {
      "cell_type": "code",
      "source": [
        "%pip install scipy --upgrade\n",
        "import math\n",
        "import matplotlib.pyplot as plt\n",
        "import scipy.stats as stats\n",
        "import scipy.optimize as opt\n",
        "import numpy as np"
      ],
      "metadata": {
        "id": "f3Gtf8uRo58A",
        "colab": {
          "base_uri": "https://localhost:8080/"
        },
        "outputId": "1e37e3bc-0198-409f-b5d7-8044be3dbfc0"
      },
      "execution_count": null,
      "outputs": [
        {
          "output_type": "stream",
          "name": "stdout",
          "text": [
            "Requirement already satisfied: scipy in /usr/local/lib/python3.7/dist-packages (1.7.3)\n",
            "Requirement already satisfied: numpy<1.23.0,>=1.16.5 in /usr/local/lib/python3.7/dist-packages (from scipy) (1.21.6)\n"
          ]
        }
      ]
    },
    {
      "cell_type": "markdown",
      "source": [
        "# **Q1-1**"
      ],
      "metadata": {
        "id": "XISqSXPRoTDy"
      }
    },
    {
      "cell_type": "code",
      "source": [
        "intialCosts = np.array([250, 650, 250, 500, 700, 30, 350, 70])\n",
        "selected = np.array([1, 1, 1, 1, 1, 1, 1, 1])\n",
        "pSuccess = np.array([0.9, 0.7, 0.6, 0.4, 0.8, 0.6, 0.7, 0.9])\n",
        "minR = np.array([600, 1250, 500, 1600, 1150, 150, 750, 220])\n",
        "modeR = np.array([750,1500, 600, 1800, 1200, 180, 900, 250])\n",
        "maxR = np.array([900,1600, 750, 1900, 1400, 250, 1000, 320])\n",
        "projects = len(selected)"
      ],
      "metadata": {
        "id": "OhrFsEcGS_tX"
      },
      "execution_count": null,
      "outputs": []
    },
    {
      "cell_type": "code",
      "execution_count": null,
      "metadata": {
        "colab": {
          "base_uri": "https://localhost:8080/"
        },
        "id": "hLuYmkpJnUom",
        "outputId": "8752ef0b-bdd2-4e5c-a271-86828fcf5be0"
      },
      "outputs": [
        {
          "output_type": "stream",
          "name": "stdout",
          "text": [
            "1929.5946688591737\n"
          ]
        }
      ],
      "source": [
        "np.random.seed(5566)\n",
        "S=10000\n",
        "revenues=np.zeros((S,projects))\n",
        "success=np.zeros((S,projects))\n",
        "finalP=np.zeros((S,projects))\n",
        "for i in range(projects):\n",
        "  success[0:S,i] = np.random.binomial(1,pSuccess[i],S)\n",
        "  revenues[0:S,i] = np.random.triangular(minR[i],modeR[i],maxR[i],S)\n",
        "  finalP[0:S,i] = (np.multiply(success[:,i],revenues[:,i]) - intialCosts[i]) * selected[i]\n",
        "\n",
        "avgFinalP = (np.sum(finalP)) / S\n",
        "print(avgFinalP)\n"
      ]
    },
    {
      "cell_type": "markdown",
      "source": [
        "# **Q1-2**"
      ],
      "metadata": {
        "id": "0z7i6CpoW7LK"
      }
    },
    {
      "cell_type": "markdown",
      "source": [
        "Optimal project selection in class:\n",
        "*   Profit: 1515.9335125162736\n",
        "*   Probability: 0.69915\n",
        "\n",
        "\n"
      ],
      "metadata": {
        "id": "rOsBmeNuXkky"
      }
    },
    {
      "cell_type": "code",
      "source": [
        "selected = np.array([1, 1, 0, 0, 1, 1, 1, 0])"
      ],
      "metadata": {
        "id": "EBOPbsrxXNnD"
      },
      "execution_count": null,
      "outputs": []
    },
    {
      "cell_type": "code",
      "source": [
        "np.random.seed(5566)\n",
        "S=10000\n",
        "revenues=np.zeros((S,projects))\n",
        "success=np.zeros((S,projects))\n",
        "finalP=np.zeros((S,projects))\n",
        "p=0\n",
        "for i in range(projects):\n",
        "  success[0:S,i] = np.random.binomial(1,pSuccess[i],S)\n",
        "  revenues[0:S,i] = np.random.triangular(minR[i],modeR[i],maxR[i],S)\n",
        "  finalP[0:S,i] = (np.multiply(success[:,i],revenues[:,i]) - intialCosts[i]) * selected[i]\n",
        "  \n",
        "p = np.sum(success) / (8*S)\n",
        "avgFinalP = (np.sum(finalP)) / S\n",
        "print(\"Profit: \" + format(avgFinalP))\n",
        "print(\"Probability: \" + format(p))\n"
      ],
      "metadata": {
        "colab": {
          "base_uri": "https://localhost:8080/"
        },
        "id": "_9IpoU7_W68B",
        "outputId": "d78df262-1a7c-4bb6-df0f-b5a16276d876"
      },
      "execution_count": null,
      "outputs": [
        {
          "output_type": "stream",
          "name": "stdout",
          "text": [
            "Profit: 1455.7248956016765\n",
            "Probability: 0.69915\n"
          ]
        }
      ]
    },
    {
      "cell_type": "markdown",
      "source": [
        "# **Q2-1**"
      ],
      "metadata": {
        "id": "pMzgbgzqgoJI"
      }
    },
    {
      "cell_type": "code",
      "source": [
        "seats=19\n",
        "demand=np.array(range(14,26,1))\n",
        "demand_prob=np.array([0.03,0.05,0.07,0.09,0.11,0.15,0.18,0.14,0.08,0.05,0.03,0.02])\n",
        "pshow=0.9\n",
        "price=150\n",
        "cost=325"
      ],
      "metadata": {
        "id": "aQxMJTeXgp4_"
      },
      "execution_count": 354,
      "outputs": []
    },
    {
      "cell_type": "code",
      "source": [
        "Qs=np.array(range(14,26,1))\n",
        "Eprofits=np.zeros(len(Qs))\n",
        "\n",
        "profits=np.zeros((len(Qs),S))\n",
        "np.random.seed(7788)\n",
        "S=5000\n",
        "for i in range(len(Qs)):\n",
        "    simdemand=np.random.choice(demand,replace=True,p=demand_prob,size=5000)\n",
        "    for s in range(S):\n",
        "      d=simdemand[s]\n",
        "      reserved=min(d,Qs[i])\n",
        "      show=np.random.binomial(reserved,pshow,1)\n",
        "      profits[i,s]=price*reserved-cost*max(0,show-seats)\n",
        "    Eprofits[i]=round(np.mean(profits[i]))\n",
        "interval=1.96*np.std(profits)/np.sqrt(S)\n",
        "    #print(Eprofits[i]+interval)\n",
        "    #print(Eprofits[i]-interval)\n",
        "\n",
        "print(\"Optimal Seats: \" + format(Qs[np.argmax(Eprofits)]))\n",
        "print(\"At 95% confidence level:\")\n",
        "print(\"Expeted Total Profit: \" + format(round(np.max(Eprofits) - interval)) + \"~\" + format(round(np.max(Eprofits) + interval)))"
      ],
      "metadata": {
        "colab": {
          "base_uri": "https://localhost:8080/"
        },
        "id": "qe7gu_173c_w",
        "outputId": "8799fe16-de35-44c5-a0f8-fb68a6a17a3c"
      },
      "execution_count": 355,
      "outputs": [
        {
          "output_type": "stream",
          "name": "stdout",
          "text": [
            "Optimal Seats: 21\n",
            "At 95% confidence level:\n",
            "Expeted Total Profit: 2776~2794\n"
          ]
        }
      ]
    },
    {
      "cell_type": "code",
      "source": [
        "plt.plot(Qs,Eprofits)\n",
        "plt.xlabel(\"Seats to Sell\")\n",
        "plt.ylabel(\"E[Profits]\")\n",
        "plt.title(\"Profits Scenario\")\n",
        "plt.show()\n"
      ],
      "metadata": {
        "colab": {
          "base_uri": "https://localhost:8080/",
          "height": 295
        },
        "id": "bC8cTEBh3ecH",
        "outputId": "82ec472b-1c51-409f-c589-6fa5810b59df"
      },
      "execution_count": 356,
      "outputs": [
        {
          "output_type": "display_data",
          "data": {
            "text/plain": [
              "<Figure size 432x288 with 1 Axes>"
            ],
            "image/png": "[encoded data removed]"
          },
          "metadata": {
            "needs_background": "light"
          }
        }
      ]
    },
    {
      "cell_type": "markdown",
      "source": [
        "# **Q2-2**"
      ],
      "metadata": {
        "id": "ZJ1zsV0R-Q07"
      }
    },
    {
      "cell_type": "code",
      "source": [
        "Qs2=np.array(range(14,26,1))\n",
        "absense=np.zeros(len(Qs2))\n",
        "lostSalese=np.zeros(len(Qs2))\n",
        "Eprofits2=np.zeros(len(Qs))\n",
        "profits2=np.zeros((len(Qs2),S))\n",
        "np.random.seed(7788)\n",
        "S=5000\n",
        "for i in range(len(Qs2)):\n",
        "    simdemand=np.random.choice(demand,replace=True,p=demand_prob,size=5000)\n",
        "    for s in range(S):\n",
        "      d=simdemand[s]\n",
        "      reserved=min(d,Qs2[i])\n",
        "      show=np.random.binomial(reserved,pshow,1)\n",
        "      profits2[i,s]=price*reserved-cost*max(0,show-seats)\n",
        "    Eprofits2[i]=round(np.mean(profits[i]))\n",
        "    absense[i]=cost*max(0,show-seats)\n",
        "    id_Lost=np.where(absense<1)\n",
        "    lostSales=len(absense[id_Lost])/S\n",
        "interval=1.96*np.std(profits2)/np.sqrt(S)\n",
        "intervalP=1.96*np.sqrt(lostSales*(1-lostSales)/S)\n",
        "target=(absense!=0).argmax(axis=0) - 1\n",
        "\n",
        "print(Qs2)\n",
        "print(absense)\n",
        "print(\"Optimal Seats: \" + format(Qs2[target]))\n",
        "print(\"At 95% confidence level:\")\n",
        "print(\"Lost Sales: \" + format(round(lostSales - intervalP, 4)) + \"~\" + format(round(lostSales + intervalP, 4)))\n",
        "print(\"Expeted Total Profit: \" + format(round(Eprofits2[target] - interval)) + \"~\" + format(round(Eprofits2[target] + interval)))"
      ],
      "metadata": {
        "colab": {
          "base_uri": "https://localhost:8080/"
        },
        "id": "mXnyPV24-TGb",
        "outputId": "068de194-b9e3-4448-c8e5-1655856a4d50"
      },
      "execution_count": 357,
      "outputs": [
        {
          "output_type": "stream",
          "name": "stdout",
          "text": [
            "[14 15 16 17 18 19 20 21 22 23 24 25]\n",
            "[  0.   0.   0.   0.   0.   0.   0. 325.   0.   0.   0.   0.]\n",
            "Optimal Seats: 20\n",
            "At 95% confidence level:\n",
            "Lost Sales: 0.0009~0.0035\n",
            "Expeted Total Profit: 2765~2783\n"
          ]
        }
      ]
    },
    {
      "cell_type": "code",
      "source": [
        "plt.plot(Qs2,absense)\n",
        "plt.xlabel(\"Seats to Sell\")\n",
        "plt.ylabel(\"Lost Sales\")\n",
        "plt.title(\"Lost Sales Scenario\")\n",
        "plt.show()\n"
      ],
      "metadata": {
        "colab": {
          "base_uri": "https://localhost:8080/",
          "height": 295
        },
        "id": "azZTmS_XBWzH",
        "outputId": "09863d37-e38a-4e34-e64b-ec4cda5a2bc1"
      },
      "execution_count": 358,
      "outputs": [
        {
          "output_type": "display_data",
          "data": {
            "text/plain": [
              "<Figure size 432x288 with 1 Axes>"
            ],
            "image/png": "[encoded data removed]"
          },
          "metadata": {
            "needs_background": "light"
          }
        }
      ]
    },
    {
      "cell_type": "markdown",
      "source": [
        "# **Q2-3**"
      ],
      "metadata": {
        "id": "S49dQyI5IY83"
      }
    },
    {
      "cell_type": "markdown",
      "source": [
        "Q2-1"
      ],
      "metadata": {
        "id": "ada-H_FtKK7N"
      }
    },
    {
      "cell_type": "code",
      "source": [
        "n21, bins21, patches21 = plt.hist(profits, density=True)\n",
        "plt.xlabel(\"Revenue\")\n",
        "plt.ylabel(\"Density\")\n",
        "plt.title(\"Revenue distribution\")\n",
        "plt.show()"
      ],
      "metadata": {
        "colab": {
          "base_uri": "https://localhost:8080/",
          "height": 295
        },
        "id": "CdhocrwUKjx6",
        "outputId": "5ca3ebc4-1dde-4c24-f83f-92ce3bf6ac5e"
      },
      "execution_count": 359,
      "outputs": [
        {
          "output_type": "display_data",
          "data": {
            "text/plain": [
              "<Figure size 432x288 with 1 Axes>"
            ],
            "image/png": "[encoded data removed]"
          },
          "metadata": {
            "needs_background": "light"
          }
        }
      ]
    },
    {
      "cell_type": "markdown",
      "source": [
        "*   Optimal Seats: 21\n",
        "*   Expeted Total Profit: 2776~2794 (At 95% confidence level)"
      ],
      "metadata": {
        "id": "V4T-xgReLOXa"
      }
    },
    {
      "cell_type": "markdown",
      "source": [
        "1.   Decision 1 might have lager profit, but also more lost sales.\n",
        "2.   Revenue is distributed unequally.\n",
        "\n"
      ],
      "metadata": {
        "id": "a9M6wI0nOjb4"
      }
    },
    {
      "cell_type": "markdown",
      "source": [
        "Q2-2"
      ],
      "metadata": {
        "id": "IRAWVaxNKnn5"
      }
    },
    {
      "cell_type": "code",
      "source": [
        "n22, bins22, patches22 = plt.hist(profits2, density=True)\n",
        "plt.xlabel(\"Revenue\")\n",
        "plt.ylabel(\"Density\")\n",
        "plt.title(\"Revenue distribution\")\n",
        "plt.show()"
      ],
      "metadata": {
        "colab": {
          "base_uri": "https://localhost:8080/",
          "height": 295
        },
        "id": "t5GgN0amKpYr",
        "outputId": "f6200ac8-c859-4878-df75-8a4be05407b3"
      },
      "execution_count": 360,
      "outputs": [
        {
          "output_type": "display_data",
          "data": {
            "text/plain": [
              "<Figure size 432x288 with 1 Axes>"
            ],
            "image/png": "[encoded data removed]"
          },
          "metadata": {
            "needs_background": "light"
          }
        }
      ]
    },
    {
      "cell_type": "markdown",
      "source": [
        "*   Optimal Seats: 20\n",
        "*   Expeted Total Profit: 2765~2783 (At 95% confidence level)\n"
      ],
      "metadata": {
        "id": "uJgNI6WcLRyS"
      }
    },
    {
      "cell_type": "markdown",
      "source": [
        "1.   Decision 2 might have less profit, but also less lost sales.\n",
        "2.   Revenue is distributed equally."
      ],
      "metadata": {
        "id": "Bps6FJfEO8zo"
      }
    },
    {
      "cell_type": "markdown",
      "source": [
        "# **Q3-1**"
      ],
      "metadata": {
        "id": "9QIrU2XuP65S"
      }
    },
    {
      "cell_type": "code",
      "source": [
        "consultantY=80000\n",
        "threshold=5000\n",
        "fixedC=3995\n",
        "variable_cost_meal=11\n",
        "S=1000\n",
        "mealSold_mean=3000\n",
        "mealSold_std=1000\n",
        "mealSold=np.random.normal(mealSold_mean,mealSold_std,S)\n",
        "labor_low=5040\n",
        "labor_upper=6860\n",
        "laborCost=np.random.uniform(labor_low,labor_upper,S)\n",
        "mealPrice=np.array([20,18.5,16.5,15])\n",
        "mealPriceP=np.array([0.25,0.35,0.3,0.1])\n",
        "simMealPrice=np.random.choice(mealPrice,S,p=mealPriceP)"
      ],
      "metadata": {
        "id": "il6ji6Ankbq8"
      },
      "execution_count": null,
      "outputs": []
    },
    {
      "cell_type": "code",
      "source": [
        "profits = np.empty(S)\n",
        "revenues = np.empty(S)\n",
        "costs = np.empty(S)\n",
        "np.random.seed(7788)\n",
        "for s in range(S):\n",
        "  revenues[s] = mealSold[s]*simMealPrice[s]\n",
        "  costs[s] = mealSold[s] * variable_cost_meal + laborCost[s] + fixedC\n",
        "  profits[s] = revenues[s] - costs[s]\n",
        "\n",
        "interval=1.96*np.std(profits)/np.sqrt(S)\n",
        "Eprofits=np.mean(profits)\n",
        "\n",
        "print(\"At 95% confidence level:\")\n",
        "print(\"Expeted Total Profit: \" + format(round(np.max(Eprofits) - interval)) + \"~\" + format(round(np.max(Eprofits) + interval)))"
      ],
      "metadata": {
        "colab": {
          "base_uri": "https://localhost:8080/"
        },
        "id": "lpxJMQVVQAvg",
        "outputId": "800d3b32-ce8a-4e2b-8243-b8f151b8dee2"
      },
      "execution_count": null,
      "outputs": [
        {
          "output_type": "stream",
          "name": "stdout",
          "text": [
            "At 95% confidence level:\n",
            "Expeted Total Profit: 10668~11776\n"
          ]
        }
      ]
    },
    {
      "cell_type": "markdown",
      "source": [
        "# **Q3-2**"
      ],
      "metadata": {
        "id": "wWxKYUl-jkjT"
      }
    },
    {
      "cell_type": "code",
      "source": [
        "part_minimum=3500\n",
        "part_thres=9000\n",
        "profits_pat=np.empty(S)\n",
        "for s in range(S):\n",
        "  profits_pat[s]=mealSold[s]*(simMealPrice[s]-variable_cost_meal)-laborCost[s]-fixedC\n",
        "  if(profits_pat[s]<part_minimum):\n",
        "    profits_pat[s]=part_minimum\n",
        "  elif(profits[s]>part_thres):\n",
        "    profits_pat[s]=(profits_pat[s]-part_thres)*0.1+part_thres\n",
        "  else:\n",
        "    profits_pat[s]=profits_pat[s]\n",
        "\n",
        "interval=1.96*np.std(profits_pat)/np.sqrt(S)\n",
        "Eprofits2=np.mean(profits_pat)\n",
        "\n",
        "print(\"At 95% confidence level:\")\n",
        "print(\"Expeted Total Profit: \" + format(round(np.max(Eprofits2) - interval)) + \"~\" + format(round(np.max(Eprofits2) + interval)))"
      ],
      "metadata": {
        "colab": {
          "base_uri": "https://localhost:8080/"
        },
        "id": "RydlBlW4jhSF",
        "outputId": "e6bb1a36-3a0b-4747-a552-31ef3515e551"
      },
      "execution_count": null,
      "outputs": [
        {
          "output_type": "stream",
          "name": "stdout",
          "text": [
            "At 95% confidence level:\n",
            "Expeted Total Profit: 7536~7873\n"
          ]
        }
      ]
    },
    {
      "cell_type": "markdown",
      "source": [
        "**Reject.**"
      ],
      "metadata": {
        "id": "awnV2Sj0kzKs"
      }
    },
    {
      "cell_type": "markdown",
      "source": [
        "# **Q3-3**"
      ],
      "metadata": {
        "id": "bVp0ZRRrk4XL"
      }
    },
    {
      "cell_type": "code",
      "source": [
        "count = 0\n",
        "for s in range(S):\n",
        "  if profits[s] > profits_pat[s]:\n",
        "    count = count + 1\n",
        "\n",
        "p = count / S\n",
        "print(\"Probability: \" + format(p))"
      ],
      "metadata": {
        "colab": {
          "base_uri": "https://localhost:8080/"
        },
        "id": "PrO_Rv4Ik7Mz",
        "outputId": "9da770e5-e02e-4c68-a35d-67321cc50359"
      },
      "execution_count": null,
      "outputs": [
        {
          "output_type": "stream",
          "name": "stdout",
          "text": [
            "Probability: 0.636\n"
          ]
        }
      ]
    },
    {
      "cell_type": "markdown",
      "source": [
        "# **Q3-4**"
      ],
      "metadata": {
        "id": "32lC3jR1oBA1"
      }
    },
    {
      "cell_type": "code",
      "source": [
        "J=50\n",
        "I=12\n",
        "profits_Y = np.empty(J)\n",
        "np.random.seed(7788)\n",
        "for j in range(J):\n",
        "  profits_Y[j]=0\n",
        "  for i in range(I):\n",
        "    profits_Y[j] += profits[j*12+i]\n",
        "\n",
        "interval=1.96*np.std(profits_Y)/np.sqrt(S)\n",
        "Eprofits_Y=np.mean(profits_Y)\n",
        "\n",
        "print(\"At 95% confidence level:\")\n",
        "print(\"Expeted Total Profit: \" + format(round(np.max(Eprofits_Y) - interval)) + \"~\" + format(round(np.max(Eprofits_Y) + interval)))"
      ],
      "metadata": {
        "colab": {
          "base_uri": "https://localhost:8080/"
        },
        "id": "I6KoTgKToAsN",
        "outputId": "8ed31a06-cffc-4995-f407-9ab197f6fad7"
      },
      "execution_count": null,
      "outputs": [
        {
          "output_type": "stream",
          "name": "stdout",
          "text": [
            "At 95% confidence level:\n",
            "Expeted Total Profit: 138746~142408\n"
          ]
        }
      ]
    },
    {
      "cell_type": "code",
      "source": [
        "J=50\n",
        "I=12\n",
        "profits_Pat_Y = np.empty(J)\n",
        "np.random.seed(7788)\n",
        "for j in range(J):\n",
        "  profits_Pat_Y[j]=0\n",
        "  for i in range(I):\n",
        "    profits_Pat_Y[j] += profits_pat[j*12+i]\n",
        "\n",
        "interval=1.96*np.std(profits_Pat_Y)/np.sqrt(S)\n",
        "Eprofits_Pat_Y=np.mean(profits_Pat_Y)\n",
        "\n",
        "print(\"At 95% confidence level:\")\n",
        "print(\"Expeted Total Profit: \" + format(round(np.max(Eprofits_Pat_Y) - interval)) + \"~\" + format(round(np.max(Eprofits_Pat_Y) + interval)))"
      ],
      "metadata": {
        "colab": {
          "base_uri": "https://localhost:8080/"
        },
        "id": "ekrKPO-FocGW",
        "outputId": "4f9092ac-dac4-4540-86de-a5382345c14a"
      },
      "execution_count": null,
      "outputs": [
        {
          "output_type": "stream",
          "name": "stdout",
          "text": [
            "At 95% confidence level:\n",
            "Expeted Total Profit: 94011~94928\n"
          ]
        }
      ]
    }
  ]
}