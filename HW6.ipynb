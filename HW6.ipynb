{
  "nbformat": 4,
  "nbformat_minor": 0,
  "metadata": {
    "colab": {
      "name": "HW6.ipynb",
      "provenance": [],
      "authorship_tag": "ABX9TyM2Sbu0SVGZuNNq5PNpQ5Ht",
      "include_colab_link": true
    },
    "kernelspec": {
      "name": "python3",
      "display_name": "Python 3"
    },
    "language_info": {
      "name": "python"
    }
  },
  "cells": [
    {
      "cell_type": "markdown",
      "metadata": {
        "id": "view-in-github",
        "colab_type": "text"
      },
      "source": [
        "<a href=\"https://colab.research.google.com/github/Salieri9527/2021DSPrescreen/blob/main/HW6.ipynb\" target=\"_parent\"><img src=\"https://colab.research.google.com/assets/colab-badge.svg\" alt=\"Open In Colab\"/></a>"
      ]
    },
    {
      "cell_type": "markdown",
      "source": [
        "# **109306012 資管二 曾昭銘**"
      ],
      "metadata": {
        "id": "fowSoXIhbhYC"
      }
    },
    {
      "cell_type": "code",
      "execution_count": 62,
      "metadata": {
        "colab": {
          "base_uri": "https://localhost:8080/"
        },
        "id": "CIIyItt_teu1",
        "outputId": "24b0c26d-95dd-4e51-b971-9fca4d859e03"
      },
      "outputs": [
        {
          "output_type": "stream",
          "name": "stdout",
          "text": [
            "Requirement already satisfied: scipy in /usr/local/lib/python3.7/dist-packages (1.7.3)\n",
            "Requirement already satisfied: numpy<1.23.0,>=1.16.5 in /usr/local/lib/python3.7/dist-packages (from scipy) (1.21.6)\n"
          ]
        }
      ],
      "source": [
        "%pip install scipy --upgrade\n",
        "import math\n",
        "import matplotlib.pyplot as plt\n",
        "import scipy.stats as stats\n",
        "import scipy.optimize as opt\n",
        "import numpy as np"
      ]
    },
    {
      "cell_type": "markdown",
      "source": [
        "# **Q1**"
      ],
      "metadata": {
        "id": "xBNMFzt-brl4"
      }
    },
    {
      "cell_type": "code",
      "source": [
        "def objective1(t):\n",
        "    revenue = 4 * (1 - 0.75**t)\n",
        "    salvage = 1 / (1 + t)\n",
        "    benefit = revenue + salvage\n",
        "    return np.sum(-benefit) #Scipy only has minimize function "
      ],
      "metadata": {
        "id": "W_IN08plbzMA"
      },
      "execution_count": 111,
      "outputs": []
    },
    {
      "cell_type": "code",
      "source": [
        "t0 = 0 ## initial value\n",
        "\n",
        "res1 = opt.minimize(objective1, t0, method = 'Nelder-Mead') "
      ],
      "metadata": {
        "id": "NpuB4rwub05I"
      },
      "execution_count": 112,
      "outputs": []
    },
    {
      "cell_type": "code",
      "source": [
        "res1"
      ],
      "metadata": {
        "colab": {
          "base_uri": "https://localhost:8080/"
        },
        "id": "g-mVPsFWb2F5",
        "outputId": "67b6e2ed-566a-4730-d724-64b6077e9994"
      },
      "execution_count": 113,
      "outputs": [
        {
          "output_type": "execute_result",
          "data": {
            "text/plain": [
              " final_simplex: (array([[22.408875 ],\n",
              "       [22.4088125]]), array([-4.03637542, -4.03637542]))\n",
              "           fun: -4.036375420714669\n",
              "       message: 'Optimization terminated successfully.'\n",
              "          nfev: 68\n",
              "           nit: 34\n",
              "        status: 0\n",
              "       success: True\n",
              "             x: array([22.408875])"
            ]
          },
          "metadata": {},
          "execution_count": 113
        }
      ]
    },
    {
      "cell_type": "markdown",
      "source": [
        "# **Q2**"
      ],
      "metadata": {
        "id": "bu_24zVCkO9n"
      }
    },
    {
      "cell_type": "code",
      "source": [
        "ER = np.array([14.67, 33.20, 59.36, 11.91])\n",
        "SD = np.array([12.17, 24.47, 37.72, 8.66])\n",
        "CORR = np.array([0.158, 0.078, 0.579, 0.241, 0.302, 0.282])\n",
        "COE = np.array([2*SD[0]*SD[1]*CORR[0], 2*SD[0]*SD[2]*CORR[1], 2*SD[0]*SD[3]*CORR[2], 2*SD[1]*SD[2]*CORR[3], 2*SD[1]*SD[3]*CORR[4], 2*SD[2]*SD[3]*CORR[5]])\n"
      ],
      "metadata": {
        "id": "HZrYqqHXthE1"
      },
      "execution_count": 181,
      "outputs": []
    },
    {
      "cell_type": "markdown",
      "source": [
        "# **(a)**"
      ],
      "metadata": {
        "id": "qdDuAgfOmtBw"
      }
    },
    {
      "cell_type": "code",
      "source": [
        "def objective(g):\n",
        "    return np.sqrt(SD[0]**2 * g[0]**2 + SD[1]**2 * g[1]**2 + SD[2]**2 * g[2]**2 + SD[3]**2 * g[3]**2 + COE[0]*g[0]*g[1] + COE[1]*g[0]*g[2] + COE[2]*g[0]*g[3] + COE[3]*g[1]*g[2] + COE[4]*g[1]*g[3] + COE[5]*g[2]*g[3])\n",
        "def constr1(g):\n",
        "    return g[0] + g[1] + g[2] + g[3]\n",
        "def constr2(g):\n",
        "    return ER[0]*g[0] + ER[1]*g[1] + ER[2]*g[2] + ER[3]*g[3]\n",
        "def constr3(g):\n",
        "    return g"
      ],
      "metadata": {
        "id": "Gwk7-z9ai1f3"
      },
      "execution_count": 198,
      "outputs": []
    },
    {
      "cell_type": "code",
      "source": [
        "x0 = np.array([0, 0, 0, 0]) ## initial value\n",
        "cons1 = opt.NonlinearConstraint(constr1, ub=1, lb=1)\n",
        "cons2 = opt.NonlinearConstraint(constr2, ub= np.inf, lb=30)\n",
        "cons3 = opt.NonlinearConstraint(constr3, ub= np.inf, lb=0)\n",
        "resA = opt.minimize(objective, x0,constraints=[cons1, cons2, cons3])"
      ],
      "metadata": {
        "id": "gdea1ePKlAoH"
      },
      "execution_count": 199,
      "outputs": []
    },
    {
      "cell_type": "code",
      "source": [
        "resA"
      ],
      "metadata": {
        "colab": {
          "base_uri": "https://localhost:8080/"
        },
        "id": "IwRW_O76lBuY",
        "outputId": "20abd2ac-0f25-4513-d7d3-82ac7243fa26"
      },
      "execution_count": 200,
      "outputs": [
        {
          "output_type": "execute_result",
          "data": {
            "text/plain": [
              "     fun: 14.302200659896544\n",
              "     jac: array([ 6.33712745, 15.96488595, 29.55696511,  4.90261936])\n",
              " message: 'Optimization terminated successfully'\n",
              "    nfev: 35\n",
              "     nit: 7\n",
              "    njev: 7\n",
              "  status: 0\n",
              " success: True\n",
              "       x: array([0.45045002, 0.24954756, 0.24307461, 0.05692781])"
            ]
          },
          "metadata": {},
          "execution_count": 200
        }
      ]
    },
    {
      "cell_type": "markdown",
      "source": [
        "# **(b)**"
      ],
      "metadata": {
        "id": "WGcxpARtmz3m"
      }
    },
    {
      "cell_type": "code",
      "source": [
        "def objective(g):\n",
        "    return -(ER[0]*g[0] + ER[1]*g[1] + ER[2]*g[2] + ER[3]*g[3]) #Scipy only has minimize function \n",
        "def constr1(g):\n",
        "    return g[0] + g[1] + g[2] + g[3]\n",
        "def constr2(g):\n",
        "    return np.sqrt(SD[0]**2 * g[0]**2 + SD[1]**2 * g[1]**2 + SD[2]**2 * g[2]**2 + SD[3]**2 * g[3]**2 + COE[0]*g[0]*g[1] + COE[1]*g[0]*g[2] + COE[2]*g[0]*g[3] + COE[3]*g[1]*g[2] + COE[4]*g[1]*g[3] + COE[5]*g[2]*g[3])\n",
        "def constr3(g):\n",
        "    return g"
      ],
      "metadata": {
        "id": "FvoFYmc8m4lu"
      },
      "execution_count": 201,
      "outputs": []
    },
    {
      "cell_type": "code",
      "source": [
        "x0 = np.array([0, 0, 0, 0]) ## initial value\n",
        "cons1 = opt.NonlinearConstraint(constr1, ub=1, lb=1)\n",
        "cons2 = opt.NonlinearConstraint(constr2, ub=10, lb=0)\n",
        "cons3 = opt.NonlinearConstraint(constr3, ub= np.inf, lb=0)\n",
        "resB = opt.minimize(objective, x0,constraints=[cons1, cons2, cons3])"
      ],
      "metadata": {
        "id": "d0bWycOmm6Qf"
      },
      "execution_count": 202,
      "outputs": []
    },
    {
      "cell_type": "code",
      "source": [
        "resB"
      ],
      "metadata": {
        "colab": {
          "base_uri": "https://localhost:8080/"
        },
        "id": "2CGCvE7Mm7Jv",
        "outputId": "2de03a64-f6a7-4c3c-9b63-946979470ec1"
      },
      "execution_count": 203,
      "outputs": [
        {
          "output_type": "execute_result",
          "data": {
            "text/plain": [
              "     fun: -20.33222487211853\n",
              "     jac: array([-14.67000008, -33.19999981, -59.3599999 , -11.90999985])\n",
              " message: 'Optimization terminated successfully'\n",
              "    nfev: 69\n",
              "     nit: 13\n",
              "    njev: 13\n",
              "  status: 0\n",
              " success: True\n",
              "       x: array([0.27817563, 0.12657315, 0.10452514, 0.49072608])"
            ]
          },
          "metadata": {},
          "execution_count": 203
        }
      ]
    },
    {
      "cell_type": "markdown",
      "source": [
        "# **(c)**"
      ],
      "metadata": {
        "id": "CalxYJlhm2q2"
      }
    },
    {
      "cell_type": "code",
      "source": [
        "RER = np.array(range(0, 31))\n",
        "OSD = np.zeros(len(RER))"
      ],
      "metadata": {
        "id": "uhzoLVhqS61n"
      },
      "execution_count": 245,
      "outputs": []
    },
    {
      "cell_type": "code",
      "source": [
        "def objective(g):\n",
        "    return np.sqrt(SD[0]**2 * g[0]**2 + SD[1]**2 * g[1]**2 + SD[2]**2 * g[2]**2 + SD[3]**2 * g[3]**2 + COE[0]*g[0]*g[1] + COE[1]*g[0]*g[2] + COE[2]*g[0]*g[3] + COE[3]*g[1]*g[2] + COE[4]*g[1]*g[3] + COE[5]*g[2]*g[3])\n",
        "def constr1(g):\n",
        "    return g[0] + g[1] + g[2] + g[3]\n",
        "def constr2(g):\n",
        "    return ER[0]*g[0] + ER[1]*g[1] + ER[2]*g[2] + ER[3]*g[3]\n",
        "def constr3(g):\n",
        "    return g"
      ],
      "metadata": {
        "id": "wLE3QprvzUHk"
      },
      "execution_count": 246,
      "outputs": []
    },
    {
      "cell_type": "code",
      "source": [
        "for i in range(len(RER)):\n",
        "  x0 = np.array([0, 0, 0, 0]) ## initial value\n",
        "  cons1 = opt.NonlinearConstraint(constr1, ub=1, lb=1)\n",
        "  cons2 = opt.NonlinearConstraint(constr2, ub= np.inf, lb=RER[i])\n",
        "  cons3 = opt.NonlinearConstraint(constr3, ub= np.inf, lb=0)\n",
        "  resC = opt.minimize(objective, x0,constraints=[cons1, cons2, cons3])\n",
        "  OSD[i] = round(resC.fun, 4)"
      ],
      "metadata": {
        "id": "nQDT6qQlzVfN"
      },
      "execution_count": 247,
      "outputs": []
    },
    {
      "cell_type": "code",
      "source": [
        "resC"
      ],
      "metadata": {
        "colab": {
          "base_uri": "https://localhost:8080/"
        },
        "id": "mXoztgp1zWsV",
        "outputId": "e26e8f4e-c577-4928-c0d3-827b4babb775"
      },
      "execution_count": 248,
      "outputs": [
        {
          "output_type": "execute_result",
          "data": {
            "text/plain": [
              "     fun: 14.302200659896544\n",
              "     jac: array([ 6.33712745, 15.96488595, 29.55696511,  4.90261936])\n",
              " message: 'Optimization terminated successfully'\n",
              "    nfev: 35\n",
              "     nit: 7\n",
              "    njev: 7\n",
              "  status: 0\n",
              " success: True\n",
              "       x: array([0.45045002, 0.24954756, 0.24307461, 0.05692781])"
            ]
          },
          "metadata": {},
          "execution_count": 248
        }
      ]
    },
    {
      "cell_type": "code",
      "source": [
        "#Plot the expected profits from each Q candidates\n",
        "plt.plot(OSD, RER)\n",
        "plt.xlabel(\"Optimal Standard Deviation of Portfolio (%)\")\n",
        "plt.ylabel(\"Required Expeted Rate of Return (%)\")\n",
        "plt.title(\"Portfolio Optimization\")\n",
        "plt.show()\n",
        "\n",
        "print (\"{:<10} {:<10}\".format('RER','OSD'))\n",
        "for i in range(len(RER)):\n",
        "   print (\"{:<10} {:<10}\".format(RER[i], OSD[i]))"
      ],
      "metadata": {
        "colab": {
          "base_uri": "https://localhost:8080/",
          "height": 883
        },
        "id": "11hWkYRd1oQU",
        "outputId": "e7b1b786-a518-449e-f7d2-1870f5c2785d"
      },
      "execution_count": 250,
      "outputs": [
        {
          "output_type": "display_data",
          "data": {
            "text/plain": [
              "<Figure size 432x288 with 1 Axes>"
            ],
            "image/png": "[encoded data removed]"
          },
          "metadata": {
            "needs_background": "light"
          }
        },
        {
          "output_type": "stream",
          "name": "stdout",
          "text": [
            "RER        OSD       \n",
            "0          8.5338    \n",
            "1          8.5338    \n",
            "2          8.5338    \n",
            "3          8.5338    \n",
            "4          8.5338    \n",
            "5          8.5338    \n",
            "6          8.5338    \n",
            "7          8.5338    \n",
            "8          8.5338    \n",
            "9          8.5338    \n",
            "10         8.5338    \n",
            "11         8.5338    \n",
            "12         8.5338    \n",
            "13         8.5381    \n",
            "14         8.599     \n",
            "15         8.7078    \n",
            "16         8.8626    \n",
            "17         9.061     \n",
            "18         9.3004    \n",
            "19         9.5775    \n",
            "20         9.8893    \n",
            "21         10.2326   \n",
            "22         10.6042   \n",
            "23         11.0014   \n",
            "24         11.4215   \n",
            "25         11.862    \n",
            "26         12.3208   \n",
            "27         12.7958   \n",
            "28         13.2854   \n",
            "29         13.788    \n",
            "30         14.3022   \n"
          ]
        }
      ]
    }
  ]
}